{
 "cells": [
  {
   "cell_type": "markdown",
   "metadata": {},
   "source": [
    "# Libraries"
   ]
  },
  {
   "cell_type": "code",
   "execution_count": 20,
   "metadata": {
    "_kg_hide-input": true
   },
   "outputs": [],
   "source": [
    "import pandas as pd\n",
    "import numpy as np\n",
    "import os\n",
    "import matplotlib.pyplot as plt\n",
    "import cv2\n",
    "import face_recognition\n",
    "\n",
    "from PIL import Image\n",
    "\n",
    "from sklearn.metrics import confusion_matrix\n",
    "from mlxtend.plotting import plot_confusion_matrix\n",
    "\n",
    "from keras import models\n",
    "from keras.layers import Dense, Dropout, Flatten, Conv2D, MaxPool2D\n",
    "from keras.optimizers import RMSprop,Adam\n",
    "from keras.utils import to_categorical"
   ]
  },
  {
   "cell_type": "code",
   "execution_count": 21,
   "metadata": {
    "_kg_hide-input": true
   },
   "outputs": [],
   "source": [
    "data = pd.read_csv('./data/icml_face_data.csv')"
   ]
  },
  {
   "cell_type": "markdown",
   "metadata": {},
   "source": [
    "# Functions"
   ]
  },
  {
   "cell_type": "code",
   "execution_count": 22,
   "metadata": {
    "_kg_hide-input": true
   },
   "outputs": [],
   "source": [
    "def prepare_data(data):\n",
    "    \"\"\" Prepare data for modeling \n",
    "        input: data frame with labels and pixel data\n",
    "        output: image and label array \"\"\"\n",
    "    \n",
    "    image_array = np.zeros(shape=(len(data), 48, 48))\n",
    "    image_label = np.array(list(map(int, data['emotion'])))\n",
    "    \n",
    "    for i, row in enumerate(data.index):\n",
    "        image = np.fromstring(data.loc[row, ' pixels'], dtype=int, sep=' ')\n",
    "        image = np.reshape(image, (48, 48))\n",
    "        image_array[i] = image\n",
    "        \n",
    "    return image_array, image_label\n",
    "        "
   ]
  },
  {
   "cell_type": "code",
   "execution_count": null,
   "metadata": {},
   "outputs": [],
   "source": []
  },
  {
   "cell_type": "markdown",
   "metadata": {},
   "source": [
    "# data prepare"
   ]
  },
  {
   "cell_type": "code",
   "execution_count": 23,
   "metadata": {},
   "outputs": [],
   "source": [
    "emotions = {0: 'Angry', 1: 'Disgust', 2: 'Fear', 3: 'Happy', 4: 'Sad', 5: 'Surprise', 6: 'Neutral'}"
   ]
  },
  {
   "cell_type": "markdown",
   "metadata": {},
   "source": [
    "Define training, validation and test data:"
   ]
  },
  {
   "cell_type": "code",
   "execution_count": 24,
   "metadata": {
    "_kg_hide-input": true
   },
   "outputs": [],
   "source": [
    "train_image_array, train_image_label = prepare_data(data[data[' Usage']=='Training'])\n",
    "val_image_array, val_image_label = prepare_data(data[data[' Usage']=='PrivateTest'])\n",
    "test_image_array, test_image_label = prepare_data(data[data[' Usage']=='PublicTest'])"
   ]
  },
  {
   "cell_type": "markdown",
   "metadata": {},
   "source": [
    "Reshape and scale the images:"
   ]
  },
  {
   "cell_type": "code",
   "execution_count": 25,
   "metadata": {
    "_kg_hide-input": true
   },
   "outputs": [],
   "source": [
    "train_images = train_image_array.reshape((train_image_array.shape[0], 48, 48, 1))\n",
    "train_images = train_images.astype('float32')/255\n",
    "val_images = val_image_array.reshape((val_image_array.shape[0], 48, 48, 1))\n",
    "val_images = val_images.astype('float32')/255\n",
    "test_images = test_image_array.reshape((test_image_array.shape[0], 48, 48, 1))\n",
    "test_images = test_images.astype('float32')/255"
   ]
  },
  {
   "cell_type": "markdown",
   "metadata": {},
   "source": [
    "Encoding of the target value:"
   ]
  },
  {
   "cell_type": "code",
   "execution_count": 26,
   "metadata": {
    "_kg_hide-input": true
   },
   "outputs": [],
   "source": [
    "train_labels = to_categorical(train_image_label)\n",
    "val_labels = to_categorical(val_image_label)\n",
    "test_labels = to_categorical(test_image_label)"
   ]
  },
  {
   "cell_type": "code",
   "execution_count": null,
   "metadata": {},
   "outputs": [],
   "source": []
  },
  {
   "cell_type": "markdown",
   "metadata": {},
   "source": [
    "# Class Weights\n",
    "Calculate the class weights of the label distribution:"
   ]
  },
  {
   "cell_type": "code",
   "execution_count": 27,
   "metadata": {
    "_kg_hide-input": true
   },
   "outputs": [],
   "source": [
    "class_weight = dict(zip(range(0, 7), (((data[data[' Usage']=='Training']['emotion'].value_counts()).sort_index())/len(data[data[' Usage']=='Training']['emotion'])).tolist()))"
   ]
  },
  {
   "cell_type": "code",
   "execution_count": null,
   "metadata": {},
   "outputs": [],
   "source": []
  },
  {
   "cell_type": "markdown",
   "metadata": {},
   "source": [
    "# Model"
   ]
  },
  {
   "cell_type": "code",
   "execution_count": 28,
   "metadata": {},
   "outputs": [],
   "source": [
    "model = models.Sequential()\n",
    "model.add(Conv2D(32, (3, 3), activation='relu', input_shape=(48, 48, 1)))\n",
    "model.add(MaxPool2D((2, 2)))\n",
    "model.add(Conv2D(64, (3, 3), activation='relu'))\n",
    "model.add(MaxPool2D((2, 2)))\n",
    "model.add(Conv2D(64, (3, 3), activation='relu'))\n",
    "model.add(Flatten())\n",
    "model.add(Dense(64, activation='relu'))\n",
    "model.add(Dense(7, activation='softmax'))"
   ]
  },
  {
   "cell_type": "code",
   "execution_count": 29,
   "metadata": {},
   "outputs": [],
   "source": [
    "model.compile(optimizer=Adam(lr=1e-3), loss='categorical_crossentropy', metrics=['accuracy'])"
   ]
  },
  {
   "cell_type": "code",
   "execution_count": 30,
   "metadata": {},
   "outputs": [
    {
     "name": "stdout",
     "output_type": "stream",
     "text": [
      "Epoch 1/12\n",
      "449/449 [==============================] - 32s 71ms/step - loss: 0.2788 - accuracy: 0.2877 - val_loss: 1.5608 - val_accuracy: 0.3998\n",
      "Epoch 2/12\n",
      "449/449 [==============================] - 33s 73ms/step - loss: 0.2286 - accuracy: 0.4291 - val_loss: 1.4108 - val_accuracy: 0.4625\n",
      "Epoch 3/12\n",
      "449/449 [==============================] - 32s 70ms/step - loss: 0.2083 - accuracy: 0.4844 - val_loss: 1.3640 - val_accuracy: 0.4826\n",
      "Epoch 4/12\n",
      "449/449 [==============================] - 33s 73ms/step - loss: 0.1929 - accuracy: 0.5217 - val_loss: 1.2969 - val_accuracy: 0.5141\n",
      "Epoch 5/12\n",
      "449/449 [==============================] - 32s 71ms/step - loss: 0.1825 - accuracy: 0.5459 - val_loss: 1.2510 - val_accuracy: 0.5364\n",
      "Epoch 6/12\n",
      "449/449 [==============================] - 32s 71ms/step - loss: 0.1723 - accuracy: 0.5762 - val_loss: 1.2820 - val_accuracy: 0.5297\n",
      "Epoch 7/12\n",
      "449/449 [==============================] - 32s 72ms/step - loss: 0.1634 - accuracy: 0.5972 - val_loss: 1.2405 - val_accuracy: 0.5450\n",
      "Epoch 8/12\n",
      "449/449 [==============================] - 32s 72ms/step - loss: 0.1557 - accuracy: 0.6159 - val_loss: 1.2786 - val_accuracy: 0.5414\n",
      "Epoch 9/12\n",
      "449/449 [==============================] - 32s 71ms/step - loss: 0.1465 - accuracy: 0.6381 - val_loss: 1.2552 - val_accuracy: 0.5364\n",
      "Epoch 10/12\n",
      "449/449 [==============================] - 31s 69ms/step - loss: 0.1357 - accuracy: 0.6625 - val_loss: 1.3025 - val_accuracy: 0.5534\n",
      "Epoch 11/12\n",
      "449/449 [==============================] - 32s 72ms/step - loss: 0.1267 - accuracy: 0.6915 - val_loss: 1.2890 - val_accuracy: 0.5531\n",
      "Epoch 12/12\n",
      "449/449 [==============================] - 31s 70ms/step - loss: 0.1154 - accuracy: 0.7181 - val_loss: 1.3273 - val_accuracy: 0.5497\n"
     ]
    }
   ],
   "source": [
    "history = model.fit(train_images, train_labels,\n",
    "                    validation_data=(val_images, val_labels),\n",
    "                    class_weight = class_weight,\n",
    "                    epochs=12,\n",
    "                    batch_size=64)"
   ]
  },
  {
   "cell_type": "code",
   "execution_count": 31,
   "metadata": {},
   "outputs": [
    {
     "name": "stdout",
     "output_type": "stream",
     "text": [
      "113/113 [==============================] - 1s 7ms/step - loss: 1.3599 - accuracy: 0.5447\n"
     ]
    }
   ],
   "source": [
    "test_loss, test_acc = model.evaluate(test_images, test_labels)"
   ]
  },
  {
   "cell_type": "code",
   "execution_count": 32,
   "metadata": {},
   "outputs": [],
   "source": [
    "pred_test_labels = model.predict(test_images)"
   ]
  },
  {
   "cell_type": "code",
   "execution_count": 33,
   "metadata": {},
   "outputs": [
    {
     "data": {
      "text/plain": [
       "array([[7.51804590e-01, 1.12143662e-02, 1.62660271e-01, ...,\n",
       "        1.34748975e-02, 5.37384748e-02, 4.78524994e-03],\n",
       "       [7.76912970e-03, 1.12994196e-04, 6.56801641e-01, ...,\n",
       "        4.31676991e-02, 3.50601822e-02, 1.41103953e-01],\n",
       "       [1.95718184e-01, 3.64321144e-03, 1.35279343e-01, ...,\n",
       "        9.63828713e-02, 2.09218226e-02, 5.46407521e-01],\n",
       "       ...,\n",
       "       [4.28079278e-04, 9.47082981e-07, 3.36841494e-02, ...,\n",
       "        3.19435708e-02, 2.09525004e-02, 3.98958437e-02],\n",
       "       [5.81734776e-01, 3.86954239e-03, 3.41966264e-02, ...,\n",
       "        8.75929072e-02, 5.29799238e-03, 2.56558567e-01],\n",
       "       [9.85186081e-03, 4.59522380e-05, 4.16375436e-02, ...,\n",
       "        4.44155373e-02, 5.77752106e-02, 8.43894362e-01]], dtype=float32)"
      ]
     },
     "execution_count": 33,
     "metadata": {},
     "output_type": "execute_result"
    }
   ],
   "source": [
    "pred_test_labels"
   ]
  },
  {
   "cell_type": "code",
   "execution_count": null,
   "metadata": {},
   "outputs": [],
   "source": []
  },
  {
   "cell_type": "markdown",
   "metadata": {},
   "source": [
    "# Save the Model"
   ]
  },
  {
   "cell_type": "code",
   "execution_count": 36,
   "metadata": {},
   "outputs": [],
   "source": [
    "model.save('/Users/kimjiyoon/Driver-Protection-Service/AI/facial-emotion-detector/facial-emotion_model.h5')"
   ]
  },
  {
   "cell_type": "code",
   "execution_count": null,
   "metadata": {},
   "outputs": [],
   "source": []
  }
 ],
 "metadata": {
  "kernelspec": {
   "display_name": "Python 3",
   "language": "python",
   "name": "python3"
  },
  "language_info": {
   "codemirror_mode": {
    "name": "ipython",
    "version": 3
   },
   "file_extension": ".py",
   "mimetype": "text/x-python",
   "name": "python",
   "nbconvert_exporter": "python",
   "pygments_lexer": "ipython3",
   "version": "3.8.5"
  }
 },
 "nbformat": 4,
 "nbformat_minor": 4
}
