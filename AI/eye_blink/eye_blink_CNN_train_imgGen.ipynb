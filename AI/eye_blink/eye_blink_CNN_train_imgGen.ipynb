{
 "cells": [
  {
   "cell_type": "code",
   "execution_count": 1,
   "metadata": {},
   "outputs": [
    {
     "name": "stdout",
     "output_type": "stream",
     "text": [
      "Found 54332 images belonging to 2 classes.\n",
      "Found 13585 images belonging to 2 classes.\n"
     ]
    }
   ],
   "source": [
    "import os\n",
    "from tensorflow.keras.preprocessing.image import ImageDataGenerator\n",
    "\n",
    "train_dir = 'C:/Users/s_csmscox/jupyterSave/eye_blink/train'\n",
    "validation_dir = 'C:/Users/s_csmscox/jupyterSave/eye_blink/valid'\n",
    "\n",
    "batch_size = 50\n",
    "img_size = 32\n",
    "\n",
    "# train_datagen = ImageDataGenerator(rescale=1/255)\n",
    "\n",
    "train_datagen = ImageDataGenerator(rescale=1/255,\n",
    "                                   rotation_range=20,  # 지정된 각도 범위내에서 임의로 원본 이미지를 회전\n",
    "                                   width_shift_range=0.1,\n",
    "                                   height_shift_range=0.1,\n",
    "                                   zoom_range=0.1,    #  1-수치 혹은 1+수치만큼 확대 및 축소\n",
    "                                   )\n",
    "\n",
    "\n",
    "\n",
    "validation_datagen = ImageDataGenerator(rescale=1/255)\n",
    "\n",
    "train_generator = train_datagen.flow_from_directory(\n",
    "    train_dir,\n",
    "    target_size=(img_size,img_size),                      \n",
    "    batch_size=batch_size,     \n",
    "    class_mode='categorical'                    \n",
    ")\n",
    "\n",
    "validation_generator = validation_datagen.flow_from_directory(\n",
    "    validation_dir,\n",
    "    target_size=(img_size,img_size),                       \n",
    "    batch_size=batch_size,    \n",
    "    class_mode='categorical'                    \n",
    ")"
   ]
  },
  {
   "cell_type": "code",
   "execution_count": 2,
   "metadata": {},
   "outputs": [
    {
     "name": "stdout",
     "output_type": "stream",
     "text": [
      "Model: \"sequential\"\n",
      "_________________________________________________________________\n",
      "Layer (type)                 Output Shape              Param #   \n",
      "=================================================================\n",
      "conv2d (Conv2D)              (None, 32, 32, 32)        896       \n",
      "_________________________________________________________________\n",
      "conv2d_1 (Conv2D)            (None, 32, 32, 32)        9248      \n",
      "_________________________________________________________________\n",
      "conv2d_2 (Conv2D)            (None, 32, 32, 32)        9248      \n",
      "_________________________________________________________________\n",
      "max_pooling2d (MaxPooling2D) (None, 16, 16, 32)        0         \n",
      "_________________________________________________________________\n",
      "conv2d_3 (Conv2D)            (None, 16, 16, 64)        18496     \n",
      "_________________________________________________________________\n",
      "conv2d_4 (Conv2D)            (None, 16, 16, 64)        36928     \n",
      "_________________________________________________________________\n",
      "conv2d_5 (Conv2D)            (None, 16, 16, 128)       73856     \n",
      "_________________________________________________________________\n",
      "conv2d_6 (Conv2D)            (None, 16, 16, 128)       147584    \n",
      "_________________________________________________________________\n",
      "max_pooling2d_1 (MaxPooling2 (None, 8, 8, 128)         0         \n",
      "_________________________________________________________________\n",
      "flatten (Flatten)            (None, 8192)              0         \n",
      "_________________________________________________________________\n",
      "dense (Dense)                (None, 4096)              33558528  \n",
      "_________________________________________________________________\n",
      "dense_1 (Dense)              (None, 2048)              8390656   \n",
      "_________________________________________________________________\n",
      "dense_2 (Dense)              (None, 1024)              2098176   \n",
      "_________________________________________________________________\n",
      "dense_3 (Dense)              (None, 2)                 2050      \n",
      "=================================================================\n",
      "Total params: 44,345,666\n",
      "Trainable params: 44,345,666\n",
      "Non-trainable params: 0\n",
      "_________________________________________________________________\n"
     ]
    }
   ],
   "source": [
    "import numpy as np\n",
    "import tensorflow as tf\n",
    "\n",
    "from tensorflow.keras.preprocessing.image import ImageDataGenerator\n",
    "from tensorflow.keras.models import Sequential, load_model\n",
    "from tensorflow.keras.layers import Input, Conv2D, MaxPooling2D, Dense, Flatten, Dropout\n",
    "from tensorflow.keras.callbacks import EarlyStopping\n",
    "from tensorflow.keras.optimizers import Adam\n",
    "\n",
    "np.random.seed(42)\n",
    "\n",
    "# 모델 구축\n",
    "\n",
    "model = Sequential()\n",
    "model.add(Conv2D(32, kernel_size=(3, 3), padding='same',\n",
    "                 activation='relu',\n",
    "                 input_shape=(img_size, img_size, 3)))\n",
    "model.add(Conv2D(32, (3, 3), activation='relu', padding='same'))\n",
    "model.add(Conv2D(32, (3, 3), activation='relu', padding='same'))\n",
    "model.add(MaxPooling2D(pool_size=(2, 2)))\n",
    "\n",
    "model.add(Conv2D(64, (3, 3), activation='relu', padding='same'))\n",
    "model.add(Conv2D(64, (3, 3), activation='relu', padding='same'))\n",
    "model.add(Conv2D(128, (3, 3), activation='relu', padding='same'))\n",
    "model.add(Conv2D(128, (3, 3), activation='relu', padding='same'))\n",
    "model.add(MaxPooling2D(pool_size=(2, 2)))\n",
    "\n",
    "model.add(Flatten())\n",
    "\n",
    "model.add(Dense(4096, activation='relu', kernel_initializer='he_normal'))\n",
    "#model.add(Dropout(0.5))\n",
    "model.add(Dense(2048, activation='relu', kernel_initializer='he_normal'))\n",
    "#model.add(Dropout(0.5))\n",
    "model.add(Dense(1024, activation='relu', kernel_initializer='he_normal'))\n",
    "\n",
    "model.add(Dense(2, activation='softmax'))\n",
    "\n",
    "model.summary()\n",
    "\n",
    "model.compile(optimizer=Adam(learning_rate=1e-5), loss='categorical_crossentropy',\n",
    "                metrics=['accuracy'])"
   ]
  },
  {
   "cell_type": "code",
   "execution_count": 3,
   "metadata": {
    "scrolled": true
   },
   "outputs": [
    {
     "name": "stdout",
     "output_type": "stream",
     "text": [
      "Epoch 1/100\n",
      "   1/1086 [..............................] - ETA: 0s - loss: 0.6912 - accuracy: 0.5800WARNING:tensorflow:Callbacks method `on_train_batch_end` is slow compared to the batch time (batch time: 0.0050s vs `on_train_batch_end` time: 0.0090s). Check your callbacks.\n",
      "1087/1086 [==============================] - 39s 35ms/step - loss: 0.4182 - accuracy: 0.8100 - val_loss: 0.2406 - val_accuracy: 0.9156\n",
      "Epoch 2/100\n",
      "1087/1086 [==============================] - 36s 33ms/step - loss: 0.2618 - accuracy: 0.8976 - val_loss: 0.2670 - val_accuracy: 0.8906\n",
      "Epoch 3/100\n",
      "1087/1086 [==============================] - 35s 33ms/step - loss: 0.1877 - accuracy: 0.9288 - val_loss: 0.1139 - val_accuracy: 0.9605\n",
      "Epoch 4/100\n",
      "1087/1086 [==============================] - 35s 33ms/step - loss: 0.1516 - accuracy: 0.9425 - val_loss: 0.0983 - val_accuracy: 0.9646\n",
      "Epoch 5/100\n",
      "1087/1086 [==============================] - 36s 33ms/step - loss: 0.1274 - accuracy: 0.9523 - val_loss: 0.0788 - val_accuracy: 0.9697\n",
      "Epoch 6/100\n",
      "1087/1086 [==============================] - 36s 33ms/step - loss: 0.1121 - accuracy: 0.9583 - val_loss: 0.0851 - val_accuracy: 0.9695\n",
      "Epoch 7/100\n",
      "1087/1086 [==============================] - 36s 33ms/step - loss: 0.1013 - accuracy: 0.9623 - val_loss: 0.0658 - val_accuracy: 0.9763\n",
      "Epoch 8/100\n",
      "1087/1086 [==============================] - 37s 34ms/step - loss: 0.0932 - accuracy: 0.9658 - val_loss: 0.0619 - val_accuracy: 0.9767\n",
      "Epoch 9/100\n",
      "1087/1086 [==============================] - 37s 34ms/step - loss: 0.0880 - accuracy: 0.9682 - val_loss: 0.0650 - val_accuracy: 0.9764\n",
      "Epoch 10/100\n",
      "1087/1086 [==============================] - 36s 33ms/step - loss: 0.0798 - accuracy: 0.9706 - val_loss: 0.0548 - val_accuracy: 0.9798\n",
      "Epoch 11/100\n",
      "1087/1086 [==============================] - 36s 33ms/step - loss: 0.0752 - accuracy: 0.9720 - val_loss: 0.0549 - val_accuracy: 0.9810\n",
      "Epoch 12/100\n",
      "1087/1086 [==============================] - 35s 33ms/step - loss: 0.0717 - accuracy: 0.9738 - val_loss: 0.0533 - val_accuracy: 0.9806\n",
      "Epoch 13/100\n",
      "1087/1086 [==============================] - 35s 33ms/step - loss: 0.0693 - accuracy: 0.9741 - val_loss: 0.0522 - val_accuracy: 0.9794\n",
      "Epoch 14/100\n",
      "1087/1086 [==============================] - 36s 33ms/step - loss: 0.0638 - accuracy: 0.9765 - val_loss: 0.0479 - val_accuracy: 0.9823\n",
      "Epoch 15/100\n",
      "1087/1086 [==============================] - 36s 33ms/step - loss: 0.0617 - accuracy: 0.9773 - val_loss: 0.0485 - val_accuracy: 0.9828\n",
      "Epoch 16/100\n",
      "1087/1086 [==============================] - 35s 33ms/step - loss: 0.0587 - accuracy: 0.9787 - val_loss: 0.0473 - val_accuracy: 0.9817\n",
      "Epoch 17/100\n",
      "1087/1086 [==============================] - 36s 33ms/step - loss: 0.0556 - accuracy: 0.9792 - val_loss: 0.0472 - val_accuracy: 0.9829\n",
      "Epoch 18/100\n",
      "1087/1086 [==============================] - 36s 33ms/step - loss: 0.0571 - accuracy: 0.9787 - val_loss: 0.0415 - val_accuracy: 0.9842\n",
      "Epoch 19/100\n",
      "1087/1086 [==============================] - 35s 33ms/step - loss: 0.0524 - accuracy: 0.9805 - val_loss: 0.0446 - val_accuracy: 0.9842\n",
      "Epoch 20/100\n",
      "1087/1086 [==============================] - 36s 33ms/step - loss: 0.0515 - accuracy: 0.9804 - val_loss: 0.0445 - val_accuracy: 0.9851\n",
      "Epoch 21/100\n",
      "1087/1086 [==============================] - 36s 33ms/step - loss: 0.0508 - accuracy: 0.9809 - val_loss: 0.0425 - val_accuracy: 0.9858\n",
      "Epoch 22/100\n",
      "1087/1086 [==============================] - 35s 33ms/step - loss: 0.0487 - accuracy: 0.9823 - val_loss: 0.0566 - val_accuracy: 0.9795\n",
      "Epoch 23/100\n",
      "1087/1086 [==============================] - 36s 33ms/step - loss: 0.0487 - accuracy: 0.9818 - val_loss: 0.0422 - val_accuracy: 0.9851\n",
      "Epoch 24/100\n",
      "1087/1086 [==============================] - 36s 33ms/step - loss: 0.0447 - accuracy: 0.9835 - val_loss: 0.0480 - val_accuracy: 0.9831\n",
      "Epoch 25/100\n",
      "1087/1086 [==============================] - 36s 33ms/step - loss: 0.0458 - accuracy: 0.9836 - val_loss: 0.0389 - val_accuracy: 0.9858\n",
      "Epoch 26/100\n",
      "1087/1086 [==============================] - 36s 33ms/step - loss: 0.0438 - accuracy: 0.9835 - val_loss: 0.0396 - val_accuracy: 0.9870\n",
      "Epoch 27/100\n",
      "1087/1086 [==============================] - 36s 33ms/step - loss: 0.0428 - accuracy: 0.9842 - val_loss: 0.0372 - val_accuracy: 0.9865\n",
      "Epoch 28/100\n",
      "1087/1086 [==============================] - 36s 33ms/step - loss: 0.0412 - accuracy: 0.9851 - val_loss: 0.0370 - val_accuracy: 0.9872\n",
      "Epoch 29/100\n",
      "1087/1086 [==============================] - 36s 33ms/step - loss: 0.0407 - accuracy: 0.9851 - val_loss: 0.0385 - val_accuracy: 0.9865\n",
      "Epoch 30/100\n",
      "1087/1086 [==============================] - 36s 33ms/step - loss: 0.0387 - accuracy: 0.9859 - val_loss: 0.0377 - val_accuracy: 0.9864\n",
      "Epoch 31/100\n",
      "1087/1086 [==============================] - 36s 33ms/step - loss: 0.0389 - accuracy: 0.9858 - val_loss: 0.0407 - val_accuracy: 0.9868\n",
      "Epoch 32/100\n",
      "1087/1086 [==============================] - 36s 33ms/step - loss: 0.0389 - accuracy: 0.9858 - val_loss: 0.0359 - val_accuracy: 0.9865\n",
      "Epoch 33/100\n",
      "1087/1086 [==============================] - 36s 33ms/step - loss: 0.0373 - accuracy: 0.9866 - val_loss: 0.0388 - val_accuracy: 0.9867\n",
      "Epoch 34/100\n",
      "1087/1086 [==============================] - 36s 33ms/step - loss: 0.0377 - accuracy: 0.9863 - val_loss: 0.0342 - val_accuracy: 0.9876\n",
      "Epoch 35/100\n",
      "1087/1086 [==============================] - 36s 33ms/step - loss: 0.0369 - accuracy: 0.9867 - val_loss: 0.0373 - val_accuracy: 0.9870\n",
      "Epoch 36/100\n",
      "1087/1086 [==============================] - 36s 33ms/step - loss: 0.0354 - accuracy: 0.9871 - val_loss: 0.0386 - val_accuracy: 0.9853\n",
      "Epoch 37/100\n",
      "1087/1086 [==============================] - 36s 33ms/step - loss: 0.0360 - accuracy: 0.9868 - val_loss: 0.0384 - val_accuracy: 0.9856\n",
      "Epoch 38/100\n",
      "1087/1086 [==============================] - 36s 33ms/step - loss: 0.0342 - accuracy: 0.9875 - val_loss: 0.0389 - val_accuracy: 0.9853\n",
      "Epoch 39/100\n",
      "1087/1086 [==============================] - 35s 33ms/step - loss: 0.0350 - accuracy: 0.9873 - val_loss: 0.0382 - val_accuracy: 0.9858\n",
      "Epoch 40/100\n",
      "1087/1086 [==============================] - 35s 33ms/step - loss: 0.0339 - accuracy: 0.9878 - val_loss: 0.0400 - val_accuracy: 0.9856\n",
      "Epoch 41/100\n",
      "1087/1086 [==============================] - 36s 33ms/step - loss: 0.0338 - accuracy: 0.9880 - val_loss: 0.0352 - val_accuracy: 0.9878\n",
      "Epoch 42/100\n",
      "1087/1086 [==============================] - 35s 33ms/step - loss: 0.0332 - accuracy: 0.9882 - val_loss: 0.0344 - val_accuracy: 0.9879\n",
      "Epoch 43/100\n",
      "1087/1086 [==============================] - 35s 32ms/step - loss: 0.0323 - accuracy: 0.9885 - val_loss: 0.0362 - val_accuracy: 0.9876\n",
      "Epoch 44/100\n",
      "1087/1086 [==============================] - 36s 33ms/step - loss: 0.0331 - accuracy: 0.9872 - val_loss: 0.0365 - val_accuracy: 0.9874\n",
      "Epoch 45/100\n",
      "1087/1086 [==============================] - 35s 33ms/step - loss: 0.0323 - accuracy: 0.9885 - val_loss: 0.0344 - val_accuracy: 0.9877\n",
      "Epoch 46/100\n",
      "1087/1086 [==============================] - 35s 33ms/step - loss: 0.0325 - accuracy: 0.9880 - val_loss: 0.0343 - val_accuracy: 0.9876\n",
      "Epoch 47/100\n",
      "1087/1086 [==============================] - 36s 33ms/step - loss: 0.0309 - accuracy: 0.9888 - val_loss: 0.0328 - val_accuracy: 0.9880\n",
      "Epoch 48/100\n",
      "1087/1086 [==============================] - 35s 33ms/step - loss: 0.0309 - accuracy: 0.9885 - val_loss: 0.0331 - val_accuracy: 0.9876\n",
      "Epoch 49/100\n",
      "1087/1086 [==============================] - 35s 33ms/step - loss: 0.0302 - accuracy: 0.9888 - val_loss: 0.0343 - val_accuracy: 0.9874\n",
      "Epoch 50/100\n",
      "1087/1086 [==============================] - 36s 33ms/step - loss: 0.0297 - accuracy: 0.9890 - val_loss: 0.0345 - val_accuracy: 0.9875\n",
      "Epoch 51/100\n",
      "1087/1086 [==============================] - 36s 33ms/step - loss: 0.0300 - accuracy: 0.9888 - val_loss: 0.0332 - val_accuracy: 0.9885\n",
      "Epoch 52/100\n",
      "1087/1086 [==============================] - 35s 33ms/step - loss: 0.0295 - accuracy: 0.9890 - val_loss: 0.0331 - val_accuracy: 0.9879\n",
      "Epoch 53/100\n",
      "1087/1086 [==============================] - 36s 33ms/step - loss: 0.0284 - accuracy: 0.9896 - val_loss: 0.0312 - val_accuracy: 0.9887\n",
      "Epoch 54/100\n",
      "1087/1086 [==============================] - 35s 33ms/step - loss: 0.0283 - accuracy: 0.9897 - val_loss: 0.0353 - val_accuracy: 0.9877\n",
      "Epoch 55/100\n",
      "1087/1086 [==============================] - 35s 33ms/step - loss: 0.0289 - accuracy: 0.9892 - val_loss: 0.0342 - val_accuracy: 0.9877\n",
      "Epoch 56/100\n",
      "1087/1086 [==============================] - 36s 33ms/step - loss: 0.0277 - accuracy: 0.9894 - val_loss: 0.0347 - val_accuracy: 0.9882\n",
      "Epoch 57/100\n",
      "1087/1086 [==============================] - 35s 33ms/step - loss: 0.0278 - accuracy: 0.9895 - val_loss: 0.0334 - val_accuracy: 0.9885\n",
      "Epoch 58/100\n",
      "1087/1086 [==============================] - 36s 33ms/step - loss: 0.0285 - accuracy: 0.9893 - val_loss: 0.0341 - val_accuracy: 0.9871\n",
      "Epoch 59/100\n",
      "1087/1086 [==============================] - 37s 34ms/step - loss: 0.0272 - accuracy: 0.9899 - val_loss: 0.0360 - val_accuracy: 0.9872\n",
      "Epoch 60/100\n",
      "1087/1086 [==============================] - 37s 34ms/step - loss: 0.0268 - accuracy: 0.9899 - val_loss: 0.0371 - val_accuracy: 0.9870\n",
      "Epoch 61/100\n",
      "1087/1086 [==============================] - 36s 33ms/step - loss: 0.0271 - accuracy: 0.9898 - val_loss: 0.0334 - val_accuracy: 0.9881\n",
      "Epoch 62/100\n",
      "1087/1086 [==============================] - 36s 33ms/step - loss: 0.0265 - accuracy: 0.9898 - val_loss: 0.0349 - val_accuracy: 0.9879\n",
      "Epoch 63/100\n",
      "1087/1086 [==============================] - 35s 33ms/step - loss: 0.0256 - accuracy: 0.9904 - val_loss: 0.0359 - val_accuracy: 0.9875\n",
      "Epoch 64/100\n",
      "1087/1086 [==============================] - 35s 33ms/step - loss: 0.0261 - accuracy: 0.9904 - val_loss: 0.0355 - val_accuracy: 0.9868\n",
      "Epoch 65/100\n",
      "1087/1086 [==============================] - 36s 33ms/step - loss: 0.0263 - accuracy: 0.9907 - val_loss: 0.0331 - val_accuracy: 0.9885\n",
      "Epoch 66/100\n",
      "1087/1086 [==============================] - 36s 33ms/step - loss: 0.0262 - accuracy: 0.9901 - val_loss: 0.0338 - val_accuracy: 0.9886\n",
      "Epoch 67/100\n",
      "1087/1086 [==============================] - 37s 34ms/step - loss: 0.0260 - accuracy: 0.9903 - val_loss: 0.0328 - val_accuracy: 0.9879\n",
      "Epoch 68/100\n",
      "1087/1086 [==============================] - 36s 34ms/step - loss: 0.0250 - accuracy: 0.9908 - val_loss: 0.0325 - val_accuracy: 0.9876\n",
      "Epoch 69/100\n",
      "1087/1086 [==============================] - 36s 33ms/step - loss: 0.0250 - accuracy: 0.9902 - val_loss: 0.0375 - val_accuracy: 0.9870\n",
      "Epoch 70/100\n",
      "1087/1086 [==============================] - 36s 33ms/step - loss: 0.0248 - accuracy: 0.9902 - val_loss: 0.0361 - val_accuracy: 0.9881\n",
      "Epoch 71/100\n",
      "1087/1086 [==============================] - 36s 33ms/step - loss: 0.0250 - accuracy: 0.9909 - val_loss: 0.0326 - val_accuracy: 0.9879\n",
      "Epoch 72/100\n",
      "1087/1086 [==============================] - 36s 33ms/step - loss: 0.0242 - accuracy: 0.9909 - val_loss: 0.0336 - val_accuracy: 0.9882\n",
      "Epoch 73/100\n",
      "1087/1086 [==============================] - 36s 33ms/step - loss: 0.0241 - accuracy: 0.9907 - val_loss: 0.0347 - val_accuracy: 0.9896\n",
      "Epoch 74/100\n",
      "1087/1086 [==============================] - 37s 34ms/step - loss: 0.0242 - accuracy: 0.9907 - val_loss: 0.0346 - val_accuracy: 0.9880\n",
      "Epoch 75/100\n",
      "1087/1086 [==============================] - 36s 33ms/step - loss: 0.0234 - accuracy: 0.9909 - val_loss: 0.0337 - val_accuracy: 0.9884\n",
      "Epoch 76/100\n",
      "1087/1086 [==============================] - 36s 33ms/step - loss: 0.0245 - accuracy: 0.9907 - val_loss: 0.0338 - val_accuracy: 0.9888\n",
      "Epoch 77/100\n",
      "1087/1086 [==============================] - 36s 33ms/step - loss: 0.0232 - accuracy: 0.9914 - val_loss: 0.0344 - val_accuracy: 0.9884\n",
      "Epoch 78/100\n",
      "1087/1086 [==============================] - 37s 34ms/step - loss: 0.0235 - accuracy: 0.9909 - val_loss: 0.0324 - val_accuracy: 0.9899\n"
     ]
    }
   ],
   "source": [
    "from tensorflow.keras.callbacks import EarlyStopping\n",
    "\n",
    "early_stopping = EarlyStopping(patience = 25) # 조기종료 콜백함수 정의\n",
    "\n",
    "# 데이터 개수 / batch_size\n",
    "steps_per_epoch = 54332 / batch_size\n",
    "val_steps = 13585 / batch_size\n",
    "\n",
    "history = model.fit(train_generator,\n",
    "                    steps_per_epoch=steps_per_epoch,\n",
    "                    epochs=100,\n",
    "                    validation_data=validation_generator,\n",
    "                    validation_steps=val_steps,\n",
    "                    callbacks=[early_stopping],\n",
    "                    verbose=1\n",
    "                    )"
   ]
  },
  {
   "cell_type": "code",
   "execution_count": 4,
   "metadata": {},
   "outputs": [
    {
     "data": {
      "image/png": "[encoded data removed]",
      "text/plain": [
       "<Figure size 720x504 with 1 Axes>"
      ]
     },
     "metadata": {
      "needs_background": "light"
     },
     "output_type": "display_data"
    },
    {
     "name": "stdout",
     "output_type": "stream",
     "text": [
      "train loss= 0.02352980524301529\n",
      "validation loss= 0.032377418130636215\n"
     ]
    },
    {
     "data": {
      "image/png": "[encoded data removed]",
      "text/plain": [
       "<Figure size 720x504 with 1 Axes>"
      ]
     },
     "metadata": {
      "needs_background": "light"
     },
     "output_type": "display_data"
    },
    {
     "name": "stdout",
     "output_type": "stream",
     "text": [
      "train accuracy= 0.9908709526062012\n",
      "validation accuracy= 0.9899153709411621\n"
     ]
    }
   ],
   "source": [
    "import matplotlib.pyplot as plt\n",
    "\n",
    "# 학습 곡선을 나타내는 함수\n",
    "def plot_loss_curve(history):\n",
    "    plt.figure(figsize=(10, 7))\n",
    "\n",
    "    plt.plot(history.history['loss'])\n",
    "    plt.plot(history.history['val_loss'])\n",
    "    plt.title('model loss')\n",
    "    plt.ylabel('loss')\n",
    "    plt.xlabel('epoch')\n",
    "    plt.legend(['train', 'test'], loc='upper right')\n",
    "    plt.show()   \n",
    "    \n",
    "    print(\"train loss=\", history.history['loss'][-1])\n",
    "    print(\"validation loss=\", history.history['val_loss'][-1])\n",
    "    \n",
    "def plot_acc_curve(history):\n",
    "    plt.figure(figsize=(10, 7))\n",
    "\n",
    "    plt.plot(history.history['accuracy'])\n",
    "    plt.plot(history.history['val_accuracy'])\n",
    "    plt.title('model accuracy')\n",
    "    plt.ylabel('accuracy')\n",
    "    plt.xlabel('epoch')\n",
    "    plt.legend(['train', 'test'], loc='upper right')\n",
    "    plt.show()   \n",
    "    \n",
    "    print(\"train accuracy=\", history.history['accuracy'][-1])\n",
    "    print(\"validation accuracy=\", history.history['val_accuracy'][-1])\n",
    "    \n",
    "plot_loss_curve(history)\n",
    "plot_acc_curve(history)"
   ]
  },
  {
   "cell_type": "code",
   "execution_count": 5,
   "metadata": {},
   "outputs": [],
   "source": [
    "model.save('C:/Users/s_csmscox/jupyterSave/eye_blink/eye_blink_CNN_ImgGen1.h5')"
   ]
  },
  {
   "cell_type": "code",
   "execution_count": 12,
   "metadata": {},
   "outputs": [
    {
     "name": "stdout",
     "output_type": "stream",
     "text": [
      "1 Physical GPUs, 1 Logical GPUs\n"
     ]
    }
   ],
   "source": [
    "from tensorflow.keras.models import load_model\n",
    "import tensorflow as tf\n",
    "\n",
    "# gpu 메모리 최대로 잡는 것을 방지\n",
    "gpus = tf.config.experimental.list_physical_devices('GPU')\n",
    "if gpus:\n",
    "    try:\n",
    "        # Currently, memory growth needs to be the same across GPUs\n",
    "        for gpu in gpus:\n",
    "            tf.config.experimental.set_memory_growth(gpu, True)\n",
    "        logical_gpus = tf.config.experimental.list_logical_devices('GPU')\n",
    "        print(len(gpus), \"Physical GPUs,\", len(logical_gpus), \"Logical GPUs\")\n",
    "    except RuntimeError as e:\n",
    "        # Memory growth must be set before GPUs have been initialized\n",
    "        print(e)\n",
    "\n",
    "model = load_model('C:/Users/s_csmscox/jupyterSave/eye_blink/eye_blink_CNN_imgGen.h5')"
   ]
  },
  {
   "cell_type": "code",
   "execution_count": 6,
   "metadata": {},
   "outputs": [
    {
     "name": "stdout",
     "output_type": "stream",
     "text": [
      "Found 16981 images belonging to 2 classes.\n"
     ]
    }
   ],
   "source": [
    "import os\n",
    "from tensorflow.keras.preprocessing.image import ImageDataGenerator\n",
    "\n",
    "test_dir = 'C:/Users/s_csmscox/jupyterSave/eye_blink/test'\n",
    "\n",
    "batch_size = 50\n",
    "img_size = 32\n",
    "\n",
    "test_datagen = ImageDataGenerator(rescale=1/255)\n",
    "\n",
    "test_generator = test_datagen.flow_from_directory(\n",
    "    test_dir,\n",
    "    target_size=(img_size,img_size),                      \n",
    "    batch_size=batch_size,     \n",
    "    class_mode='categorical'                    \n",
    ")"
   ]
  },
  {
   "cell_type": "code",
   "execution_count": 7,
   "metadata": {},
   "outputs": [
    {
     "name": "stdout",
     "output_type": "stream",
     "text": [
      "-- Evaluate --\n",
      "340/339 [==============================] - 6s 17ms/step - loss: 0.0287 - accuracy: 0.9905\n",
      "accuracy: 99.05%\n"
     ]
    }
   ],
   "source": [
    "# 모델 평가\n",
    "\n",
    "steps = 16981 / batch_size\n",
    "\n",
    "print(\"-- Evaluate --\")\n",
    "scores = model.evaluate(test_generator, steps=steps)\n",
    "print(\"%s: %.2f%%\" %(model.metrics_names[1], scores[1]*100))"
   ]
  },
  {
   "cell_type": "code",
   "execution_count": 8,
   "metadata": {
    "scrolled": true
   },
   "outputs": [
    {
     "name": "stdout",
     "output_type": "stream",
     "text": [
      "Epoch 1/100\n",
      "1087/1086 [==============================] - 36s 33ms/step - loss: 0.0197 - accuracy: 0.9927 - val_loss: 0.0317 - val_accuracy: 0.9895\n",
      "Epoch 2/100\n",
      "1087/1086 [==============================] - 36s 33ms/step - loss: 0.0200 - accuracy: 0.9924 - val_loss: 0.0317 - val_accuracy: 0.9893\n",
      "Epoch 3/100\n",
      "1087/1086 [==============================] - 36s 33ms/step - loss: 0.0197 - accuracy: 0.9926 - val_loss: 0.0317 - val_accuracy: 0.9892\n",
      "Epoch 4/100\n",
      "1087/1086 [==============================] - 36s 33ms/step - loss: 0.0197 - accuracy: 0.9925 - val_loss: 0.0316 - val_accuracy: 0.9894\n",
      "Epoch 5/100\n",
      "1087/1086 [==============================] - 36s 33ms/step - loss: 0.0202 - accuracy: 0.9924 - val_loss: 0.0316 - val_accuracy: 0.9895\n",
      "Epoch 6/100\n",
      "1087/1086 [==============================] - 36s 33ms/step - loss: 0.0189 - accuracy: 0.9932 - val_loss: 0.0316 - val_accuracy: 0.9895\n",
      "Epoch 7/100\n",
      "1087/1086 [==============================] - 36s 33ms/step - loss: 0.0192 - accuracy: 0.9925 - val_loss: 0.0317 - val_accuracy: 0.9895\n",
      "Epoch 8/100\n",
      "1087/1086 [==============================] - 36s 33ms/step - loss: 0.0185 - accuracy: 0.9930 - val_loss: 0.0316 - val_accuracy: 0.9895\n",
      "Epoch 9/100\n",
      "1087/1086 [==============================] - 36s 33ms/step - loss: 0.0193 - accuracy: 0.9927 - val_loss: 0.0316 - val_accuracy: 0.9893\n",
      "Epoch 10/100\n",
      "1087/1086 [==============================] - 36s 33ms/step - loss: 0.0187 - accuracy: 0.9930 - val_loss: 0.0315 - val_accuracy: 0.9896\n",
      "Epoch 11/100\n",
      "1087/1086 [==============================] - 36s 33ms/step - loss: 0.0185 - accuracy: 0.9927 - val_loss: 0.0316 - val_accuracy: 0.9895\n",
      "Epoch 12/100\n",
      "1087/1086 [==============================] - 36s 33ms/step - loss: 0.0184 - accuracy: 0.9932 - val_loss: 0.0317 - val_accuracy: 0.9894\n",
      "Epoch 13/100\n",
      "1087/1086 [==============================] - 36s 33ms/step - loss: 0.0186 - accuracy: 0.9928 - val_loss: 0.0318 - val_accuracy: 0.9895\n",
      "Epoch 14/100\n",
      "1087/1086 [==============================] - 38s 35ms/step - loss: 0.0187 - accuracy: 0.9927 - val_loss: 0.0317 - val_accuracy: 0.9895\n",
      "Epoch 15/100\n",
      "1087/1086 [==============================] - 37s 34ms/step - loss: 0.0187 - accuracy: 0.9930 - val_loss: 0.0317 - val_accuracy: 0.9895\n",
      "Epoch 16/100\n",
      "1087/1086 [==============================] - 36s 33ms/step - loss: 0.0188 - accuracy: 0.9930 - val_loss: 0.0317 - val_accuracy: 0.9895\n",
      "Epoch 17/100\n",
      "1087/1086 [==============================] - 37s 34ms/step - loss: 0.0184 - accuracy: 0.9932 - val_loss: 0.0318 - val_accuracy: 0.9893\n",
      "Epoch 18/100\n",
      "1087/1086 [==============================] - 37s 34ms/step - loss: 0.0183 - accuracy: 0.9932 - val_loss: 0.0318 - val_accuracy: 0.9894\n",
      "Epoch 19/100\n",
      "1087/1086 [==============================] - 36s 33ms/step - loss: 0.0191 - accuracy: 0.9930 - val_loss: 0.0318 - val_accuracy: 0.9895\n",
      "Epoch 20/100\n",
      "1087/1086 [==============================] - 36s 33ms/step - loss: 0.0184 - accuracy: 0.9931 - val_loss: 0.0317 - val_accuracy: 0.9895\n",
      "Epoch 21/100\n",
      "1087/1086 [==============================] - 36s 33ms/step - loss: 0.0183 - accuracy: 0.9929 - val_loss: 0.0318 - val_accuracy: 0.9895\n",
      "Epoch 22/100\n",
      "1087/1086 [==============================] - 36s 33ms/step - loss: 0.0182 - accuracy: 0.9936 - val_loss: 0.0318 - val_accuracy: 0.9894\n",
      "Epoch 23/100\n",
      "1087/1086 [==============================] - 36s 33ms/step - loss: 0.0177 - accuracy: 0.9933 - val_loss: 0.0318 - val_accuracy: 0.9896\n",
      "Epoch 24/100\n",
      "1087/1086 [==============================] - 36s 33ms/step - loss: 0.0179 - accuracy: 0.9931 - val_loss: 0.0319 - val_accuracy: 0.9895\n",
      "Epoch 25/100\n",
      "1087/1086 [==============================] - 36s 33ms/step - loss: 0.0176 - accuracy: 0.9929 - val_loss: 0.0319 - val_accuracy: 0.9896\n"
     ]
    }
   ],
   "source": [
    "from tensorflow.keras.callbacks import EarlyStopping\n",
    "from tensorflow.keras.optimizers import Adam\n",
    "\n",
    "early_stopping = EarlyStopping(patience = 15) # 조기종료 콜백함수 정의\n",
    "\n",
    "# 데이터 개수 / batch_size\n",
    "steps_per_epoch = 54332 / batch_size\n",
    "val_steps = 13585 / batch_size\n",
    "\n",
    "model.compile(optimizer=Adam(learning_rate=1e-7), loss='categorical_crossentropy',\n",
    "                metrics=['accuracy'])\n",
    "\n",
    "history = model.fit(train_generator,\n",
    "                    steps_per_epoch=steps_per_epoch,\n",
    "                    epochs=100,\n",
    "                    validation_data=validation_generator,\n",
    "                    validation_steps=val_steps,\n",
    "                    callbacks=[early_stopping],\n",
    "                    verbose=1\n",
    "                    )"
   ]
  },
  {
   "cell_type": "code",
   "execution_count": 9,
   "metadata": {},
   "outputs": [
    {
     "data": {
      "image/png": "[encoded data removed]",
      "text/plain": [
       "<Figure size 720x504 with 1 Axes>"
      ]
     },
     "metadata": {
      "needs_background": "light"
     },
     "output_type": "display_data"
    },
    {
     "name": "stdout",
     "output_type": "stream",
     "text": [
      "train loss= 0.017616458237171173\n",
      "validation loss= 0.031890030950307846\n"
     ]
    },
    {
     "data": {
      "image/png": "[encoded data removed]",
      "text/plain": [
       "<Figure size 720x504 with 1 Axes>"
      ]
     },
     "metadata": {
      "needs_background": "light"
     },
     "output_type": "display_data"
    },
    {
     "name": "stdout",
     "output_type": "stream",
     "text": [
      "train accuracy= 0.9929139614105225\n",
      "validation accuracy= 0.9896209239959717\n"
     ]
    }
   ],
   "source": [
    "import matplotlib.pyplot as plt\n",
    "\n",
    "# 학습 곡선을 나타내는 함수\n",
    "def plot_loss_curve(history):\n",
    "    plt.figure(figsize=(10, 7))\n",
    "\n",
    "    plt.plot(history.history['loss'])\n",
    "    plt.plot(history.history['val_loss'])\n",
    "    plt.title('model loss')\n",
    "    plt.ylabel('loss')\n",
    "    plt.xlabel('epoch')\n",
    "    plt.legend(['train', 'test'], loc='upper right')\n",
    "    plt.show()   \n",
    "    \n",
    "    print(\"train loss=\", history.history['loss'][-1])\n",
    "    print(\"validation loss=\", history.history['val_loss'][-1])\n",
    "    \n",
    "def plot_acc_curve(history):\n",
    "    plt.figure(figsize=(10, 7))\n",
    "\n",
    "    plt.plot(history.history['accuracy'])\n",
    "    plt.plot(history.history['val_accuracy'])\n",
    "    plt.title('model accuracy')\n",
    "    plt.ylabel('accuracy')\n",
    "    plt.xlabel('epoch')\n",
    "    plt.legend(['train', 'test'], loc='upper right')\n",
    "    plt.show()   \n",
    "    \n",
    "    print(\"train accuracy=\", history.history['accuracy'][-1])\n",
    "    print(\"validation accuracy=\", history.history['val_accuracy'][-1])\n",
    "    \n",
    "plot_loss_curve(history)\n",
    "plot_acc_curve(history)"
   ]
  },
  {
   "cell_type": "code",
   "execution_count": null,
   "metadata": {},
   "outputs": [],
   "source": [
    "import os\n",
    "from tensorflow.keras.preprocessing.image import ImageDataGenerator\n",
    "\n",
    "test_dir = 'C:/Users/s_csmscox/jupyterSave/eye_blink/test'\n",
    "\n",
    "batch_size = 50\n",
    "img_size = 32\n",
    "\n",
    "test_datagen = ImageDataGenerator(rescale=1/255)\n",
    "\n",
    "test_generator = test_datagen.flow_from_directory(\n",
    "    test_dir,\n",
    "    target_size=(img_size,img_size),                      \n",
    "    batch_size=batch_size,     \n",
    "    class_mode='categorical'                    \n",
    ")"
   ]
  },
  {
   "cell_type": "code",
   "execution_count": 10,
   "metadata": {},
   "outputs": [
    {
     "name": "stdout",
     "output_type": "stream",
     "text": [
      "-- Evaluate --\n",
      "340/339 [==============================] - 5s 15ms/step - loss: 0.0286 - accuracy: 0.9909\n",
      "accuracy: 99.09%\n"
     ]
    }
   ],
   "source": [
    "# 모델 평가\n",
    "\n",
    "steps = 16981 / batch_size\n",
    "\n",
    "print(\"-- Evaluate --\")\n",
    "scores = model.evaluate(test_generator, steps=steps)\n",
    "print(\"%s: %.2f%%\" %(model.metrics_names[1], scores[1]*100))"
   ]
  },
  {
   "cell_type": "code",
   "execution_count": 11,
   "metadata": {},
   "outputs": [],
   "source": [
    "model.save('C:/Users/s_csmscox/jupyterSave/eye_blink/eye_blink_CNN_ImgGen1_FT.h5')"
   ]
  }
 ],
 "metadata": {
  "kernelspec": {
   "display_name": "Python 3",
   "language": "python",
   "name": "python3"
  },
  "language_info": {
   "codemirror_mode": {
    "name": "ipython",
    "version": 3
   },
   "file_extension": ".py",
   "mimetype": "text/x-python",
   "name": "python",
   "nbconvert_exporter": "python",
   "pygments_lexer": "ipython3",
   "version": "3.8.5"
  }
 },
 "nbformat": 4,
 "nbformat_minor": 4
}
