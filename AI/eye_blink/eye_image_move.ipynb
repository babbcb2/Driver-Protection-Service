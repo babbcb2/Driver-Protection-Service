{
 "cells": [
  {
   "cell_type": "code",
   "execution_count": 3,
   "metadata": {
    "scrolled": true,
    "tags": []
   },
   "outputs": [
    {
     "data": {
      "text/plain": [
       "['s0001',\n",
       " 's0002',\n",
       " 's0003',\n",
       " 's0004',\n",
       " 's0005',\n",
       " 's0006',\n",
       " 's0007',\n",
       " 's0008',\n",
       " 's0009',\n",
       " 's0010',\n",
       " 's0011',\n",
       " 's0012',\n",
       " 's0013',\n",
       " 's0014',\n",
       " 's0015',\n",
       " 's0016',\n",
       " 's0017',\n",
       " 's0018',\n",
       " 's0019',\n",
       " 's0020',\n",
       " 's0021',\n",
       " 's0022',\n",
       " 's0023',\n",
       " 's0024',\n",
       " 's0025',\n",
       " 's0026',\n",
       " 's0027',\n",
       " 's0028',\n",
       " 's0029',\n",
       " 's0030',\n",
       " 's0031',\n",
       " 's0032',\n",
       " 's0033',\n",
       " 's0034',\n",
       " 's0035',\n",
       " 's0036',\n",
       " 's0037']"
      ]
     },
     "execution_count": 3,
     "metadata": {},
     "output_type": "execute_result"
    }
   ],
   "source": [
    "import os\n",
    "\n",
    "base_dir = 'C:/Users/dltmd/jupyterSave/eyes'\n",
    "\n",
    "file_list = os.listdir(base_dir)\n",
    "\n",
    "file_list"
   ]
  },
  {
   "cell_type": "code",
   "execution_count": 13,
   "metadata": {
    "scrolled": true,
    "tags": []
   },
   "outputs": [],
   "source": [
    "img = []\n",
    "\n",
    "for file in file_list:\n",
    "    path_dir = base_dir + '/' + file\n",
    "    \n",
    "    img_list = os.listdir(path_dir)\n",
    "    \n",
    "    for image in img_list:\n",
    "        img.append(file+ '/' +image)"
   ]
  },
  {
   "cell_type": "code",
   "execution_count": 16,
   "metadata": {},
   "outputs": [
    {
     "data": {
      "text/plain": [
       "'s0001/s0001_01001_0_1_0_2_0_01.png'"
      ]
     },
     "execution_count": 16,
     "metadata": {},
     "output_type": "execute_result"
    }
   ],
   "source": [
    "img[1000]"
   ]
  },
  {
   "cell_type": "code",
   "execution_count": 19,
   "metadata": {},
   "outputs": [
    {
     "data": {
      "text/html": [
       "<div>\n",
       "<style scoped>\n",
       "    .dataframe tbody tr th:only-of-type {\n",
       "        vertical-align: middle;\n",
       "    }\n",
       "\n",
       "    .dataframe tbody tr th {\n",
       "        vertical-align: top;\n",
       "    }\n",
       "\n",
       "    .dataframe thead th {\n",
       "        text-align: right;\n",
       "    }\n",
       "</style>\n",
       "<table border=\"1\" class=\"dataframe\">\n",
       "  <thead>\n",
       "    <tr style=\"text-align: right;\">\n",
       "      <th></th>\n",
       "      <th>img</th>\n",
       "    </tr>\n",
       "  </thead>\n",
       "  <tbody>\n",
       "    <tr>\n",
       "      <th>0</th>\n",
       "      <td>s0001/s0001_00001_0_0_0_0_0_01.png</td>\n",
       "    </tr>\n",
       "    <tr>\n",
       "      <th>1</th>\n",
       "      <td>s0001/s0001_00002_0_0_0_0_0_01.png</td>\n",
       "    </tr>\n",
       "    <tr>\n",
       "      <th>2</th>\n",
       "      <td>s0001/s0001_00003_0_0_0_0_0_01.png</td>\n",
       "    </tr>\n",
       "    <tr>\n",
       "      <th>3</th>\n",
       "      <td>s0001/s0001_00004_0_0_0_0_0_01.png</td>\n",
       "    </tr>\n",
       "    <tr>\n",
       "      <th>4</th>\n",
       "      <td>s0001/s0001_00005_0_0_0_0_0_01.png</td>\n",
       "    </tr>\n",
       "    <tr>\n",
       "      <th>...</th>\n",
       "      <td>...</td>\n",
       "    </tr>\n",
       "    <tr>\n",
       "      <th>84893</th>\n",
       "      <td>s0037/s0037_10253_1_1_1_0_0_01.png</td>\n",
       "    </tr>\n",
       "    <tr>\n",
       "      <th>84894</th>\n",
       "      <td>s0037/s0037_10254_1_1_1_0_0_01.png</td>\n",
       "    </tr>\n",
       "    <tr>\n",
       "      <th>84895</th>\n",
       "      <td>s0037/s0037_10255_1_1_1_0_0_01.png</td>\n",
       "    </tr>\n",
       "    <tr>\n",
       "      <th>84896</th>\n",
       "      <td>s0037/s0037_10256_1_1_1_0_0_01.png</td>\n",
       "    </tr>\n",
       "    <tr>\n",
       "      <th>84897</th>\n",
       "      <td>s0037/s0037_10257_1_1_1_0_0_01.png</td>\n",
       "    </tr>\n",
       "  </tbody>\n",
       "</table>\n",
       "<p>84898 rows × 1 columns</p>\n",
       "</div>"
      ],
      "text/plain": [
       "                                      img\n",
       "0      s0001/s0001_00001_0_0_0_0_0_01.png\n",
       "1      s0001/s0001_00002_0_0_0_0_0_01.png\n",
       "2      s0001/s0001_00003_0_0_0_0_0_01.png\n",
       "3      s0001/s0001_00004_0_0_0_0_0_01.png\n",
       "4      s0001/s0001_00005_0_0_0_0_0_01.png\n",
       "...                                   ...\n",
       "84893  s0037/s0037_10253_1_1_1_0_0_01.png\n",
       "84894  s0037/s0037_10254_1_1_1_0_0_01.png\n",
       "84895  s0037/s0037_10255_1_1_1_0_0_01.png\n",
       "84896  s0037/s0037_10256_1_1_1_0_0_01.png\n",
       "84897  s0037/s0037_10257_1_1_1_0_0_01.png\n",
       "\n",
       "[84898 rows x 1 columns]"
      ]
     },
     "execution_count": 19,
     "metadata": {},
     "output_type": "execute_result"
    }
   ],
   "source": [
    "import pandas as pd\n",
    "\n",
    "img_df = pd.DataFrame(img, columns=['img'])\n",
    "img_df"
   ]
  },
  {
   "cell_type": "code",
   "execution_count": 17,
   "metadata": {},
   "outputs": [],
   "source": [
    "import shutil\n",
    "from sklearn.model_selection import train_test_split\n",
    "\n",
    "dst = 'C:/Users/dltmd/jupyterSave/eye_blink/'\n",
    "\n",
    "train, test = train_test_split(sub, test_size=0.2, random_state=42)\n",
    "train, valid = train_test_split(train, test_size=0.2, random_state=42)\n",
    "\n",
    "for image  in img_df['img']:\n",
    "    src = 'C:/Users/dltmd/jupyterSave/eyes/' + image\n",
    "    \n",
    "    if image[22] == '0':\n",
    "        shutil.move(src, (dst + '0'))\n",
    "    else:\n",
    "        shutil.move(src, (dst + '1'))\n",
    "    \n",
    "    "
   ]
  }
 ],
 "metadata": {
  "kernelspec": {
   "display_name": "Python 3",
   "language": "python",
   "name": "python3"
  },
  "language_info": {
   "codemirror_mode": {
    "name": "ipython",
    "version": 3
   },
   "file_extension": ".py",
   "mimetype": "text/x-python",
   "name": "python",
   "nbconvert_exporter": "python",
   "pygments_lexer": "ipython3",
   "version": "3.7.6"
  }
 },
 "nbformat": 4,
 "nbformat_minor": 4
}
