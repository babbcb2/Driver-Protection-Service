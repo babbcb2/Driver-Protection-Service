{
 "cells": [
  {
   "cell_type": "code",
   "execution_count": 1,
   "metadata": {
    "scrolled": true,
    "tags": []
   },
   "outputs": [
    {
     "data": {
      "text/plain": [
       "['s0001',\n",
       " 's0002',\n",
       " 's0003',\n",
       " 's0004',\n",
       " 's0005',\n",
       " 's0006',\n",
       " 's0007',\n",
       " 's0008',\n",
       " 's0009',\n",
       " 's0010',\n",
       " 's0011',\n",
       " 's0012',\n",
       " 's0013',\n",
       " 's0014',\n",
       " 's0015',\n",
       " 's0016',\n",
       " 's0017',\n",
       " 's0018',\n",
       " 's0019',\n",
       " 's0020',\n",
       " 's0021',\n",
       " 's0022',\n",
       " 's0023',\n",
       " 's0024',\n",
       " 's0025',\n",
       " 's0026',\n",
       " 's0027',\n",
       " 's0028',\n",
       " 's0029',\n",
       " 's0030',\n",
       " 's0031',\n",
       " 's0032',\n",
       " 's0033',\n",
       " 's0034',\n",
       " 's0035',\n",
       " 's0036',\n",
       " 's0037']"
      ]
     },
     "execution_count": 1,
     "metadata": {},
     "output_type": "execute_result"
    }
   ],
   "source": [
    "import os\n",
    "\n",
    "base_dir = 'C:/Users/s_csmscox/jupyterSave/eyes'\n",
    "\n",
    "file_list = os.listdir(base_dir)\n",
    "\n",
    "file_list"
   ]
  },
  {
   "cell_type": "code",
   "execution_count": 2,
   "metadata": {
    "scrolled": true,
    "tags": []
   },
   "outputs": [],
   "source": [
    "open_eye = []\n",
    "close_eye = []\n",
    "\n",
    "for file in file_list:\n",
    "    path_dir = base_dir + '/' + file\n",
    "    \n",
    "    img_list = os.listdir(path_dir)\n",
    "    \n",
    "    for image in img_list:\n",
    "        if image[16] == '0':\n",
    "            open_eye.append(file+ '/' +image)\n",
    "        else:\n",
    "            close_eye.append(file+ '/' +image)"
   ]
  },
  {
   "cell_type": "code",
   "execution_count": 3,
   "metadata": {},
   "outputs": [
    {
     "data": {
      "text/plain": [
       "'s0001/s0001_02842_0_1_1_2_0_01.png'"
      ]
     },
     "execution_count": 3,
     "metadata": {},
     "output_type": "execute_result"
    }
   ],
   "source": [
    "close_eye[1000]"
   ]
  },
  {
   "cell_type": "code",
   "execution_count": 4,
   "metadata": {},
   "outputs": [],
   "source": [
    "import pandas as pd\n",
    "\n",
    "open_df = pd.DataFrame(open_eye, columns=['img'])\n",
    "close_df = pd.DataFrame(close_eye, columns=['img'])"
   ]
  },
  {
   "cell_type": "code",
   "execution_count": 7,
   "metadata": {},
   "outputs": [],
   "source": [
    "import shutil\n",
    "from sklearn.model_selection import train_test_split\n",
    "\n",
    "base_dst = 'C:/Users/s_csmscox/jupyterSave/eye_blink/'\n",
    "\n",
    "# open_eye 나누기\n",
    "train, test = train_test_split(open_df, test_size=0.2, random_state=42)\n",
    "train, valid = train_test_split(train, test_size=0.2, random_state=42)\n",
    "\n",
    "for image in train['img']:\n",
    "    src = base_dir+ '/' + image\n",
    "    dst = base_dst + '/train/0'\n",
    "    shutil.move(src, dst)\n",
    "    \n",
    "for image in valid['img']:\n",
    "    src = base_dir+ '/' + image\n",
    "    dst = base_dst + '/valid/0'\n",
    "    shutil.move(src, dst)\n",
    "    \n",
    "for image in test['img']:\n",
    "    src = base_dir+ '/' + image\n",
    "    dst = base_dst + '/test/0'\n",
    "    shutil.move(src, dst)\n",
    "\n",
    "# close_eye 나누기\n",
    "train, test = train_test_split(close_df, test_size=0.2, random_state=42)\n",
    "train, valid = train_test_split(train, test_size=0.2, random_state=42)\n",
    "\n",
    "for image in train['img']:\n",
    "    src = base_dir+ '/' + image\n",
    "    dst = base_dst + '/train/1'\n",
    "    shutil.move(src, dst)\n",
    "    \n",
    "for image in valid['img']:\n",
    "    src = base_dir+ '/' + image\n",
    "    dst = base_dst + '/valid/1'\n",
    "    shutil.move(src, dst)\n",
    "    \n",
    "for image in test['img']:\n",
    "    src = base_dir+ '/' + image\n",
    "    dst = base_dst + '/test/1'\n",
    "    shutil.move(src, dst)\n",
    "    \n",
    "    "
   ]
  }
 ],
 "metadata": {
  "kernelspec": {
   "display_name": "Python 3",
   "language": "python",
   "name": "python3"
  },
  "language_info": {
   "codemirror_mode": {
    "name": "ipython",
    "version": 3
   },
   "file_extension": ".py",
   "mimetype": "text/x-python",
   "name": "python",
   "nbconvert_exporter": "python",
   "pygments_lexer": "ipython3",
   "version": "3.7.6"
  }
 },
 "nbformat": 4,
 "nbformat_minor": 4
}
