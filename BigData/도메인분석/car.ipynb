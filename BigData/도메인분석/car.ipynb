{
 "cells": [
  {
   "cell_type": "markdown",
   "metadata": {},
   "source": []
  },
  {
   "cell_type": "markdown",
   "metadata": {},
   "source": [
    "# 졸음운전사고에 대한 사망자수"
   ]
  },
  {
   "cell_type": "markdown",
   "metadata": {},
   "source": [
    "### 1. 데이터 확인"
   ]
  },
  {
   "cell_type": "code",
   "execution_count": 92,
   "metadata": {},
   "outputs": [],
   "source": [
    "import pandas as pd\n",
    "from sklearn import preprocessing"
   ]
  },
  {
   "cell_type": "code",
   "execution_count": 93,
   "metadata": {},
   "outputs": [],
   "source": [
    "#교통사고 데이터 로드\n",
    "df_car = pd.read_csv(\"차종별졸음운전교통사고.csv\", encoding='CP949', header=0)"
   ]
  },
  {
   "cell_type": "code",
   "execution_count": 94,
   "metadata": {},
   "outputs": [
    {
     "name": "stdout",
     "output_type": "stream",
     "text": [
      "      구분   승용차  화물차\n",
      "0  사고(건)  1769  464\n",
      "1  사망(명)    80   34\n",
      "2  부상(명)  3342  820\n",
      "3  사고(건)  1985  497\n",
      "4  사망(명)    54   37\n",
      "5  부상(명)  3894  971\n",
      "6  사고(건)  1751  450\n",
      "7  사망(명)    49   33\n",
      "8  부상(명)  3393  882\n"
     ]
    }
   ],
   "source": [
    "# 데이터 확인\n",
    "df_car = df_car[['구분', '승용차', '화물차']]\n",
    "print(df_car)\n",
    "\n",
    "# 원핫 인코딩\n",
    "#label_encoder=preprocessing.LabelEncoder()\n",
    "#df_car['구분']=label_encoder.fit_transform(df_car['구분'])\n",
    "#print(df_car)"
   ]
  },
  {
   "cell_type": "markdown",
   "metadata": {},
   "source": [
    "### 2. 데이터 전처리"
   ]
  },
  {
   "cell_type": "code",
   "execution_count": 95,
   "metadata": {},
   "outputs": [
    {
     "data": {
      "text/html": [
       "<div>\n",
       "<style scoped>\n",
       "    .dataframe tbody tr th:only-of-type {\n",
       "        vertical-align: middle;\n",
       "    }\n",
       "\n",
       "    .dataframe tbody tr th {\n",
       "        vertical-align: top;\n",
       "    }\n",
       "\n",
       "    .dataframe thead th {\n",
       "        text-align: right;\n",
       "    }\n",
       "</style>\n",
       "<table border=\"1\" class=\"dataframe\">\n",
       "  <thead>\n",
       "    <tr style=\"text-align: right;\">\n",
       "      <th></th>\n",
       "      <th>구분</th>\n",
       "      <th>승용차</th>\n",
       "      <th>화물차</th>\n",
       "    </tr>\n",
       "  </thead>\n",
       "  <tbody>\n",
       "    <tr>\n",
       "      <th>0</th>\n",
       "      <td>부상(명)</td>\n",
       "      <td>10629</td>\n",
       "      <td>2673</td>\n",
       "    </tr>\n",
       "    <tr>\n",
       "      <th>1</th>\n",
       "      <td>사고(건)</td>\n",
       "      <td>5505</td>\n",
       "      <td>1411</td>\n",
       "    </tr>\n",
       "    <tr>\n",
       "      <th>2</th>\n",
       "      <td>사망(명)</td>\n",
       "      <td>183</td>\n",
       "      <td>104</td>\n",
       "    </tr>\n",
       "  </tbody>\n",
       "</table>\n",
       "</div>"
      ],
      "text/plain": [
       "      구분    승용차   화물차\n",
       "0  부상(명)  10629  2673\n",
       "1  사고(건)   5505  1411\n",
       "2  사망(명)    183   104"
      ]
     },
     "metadata": {},
     "output_type": "display_data"
    }
   ],
   "source": [
    "# groupby 전처리\n",
    "car_group = df_car.groupby('구분')\n",
    "kind = []\n",
    "smallcar = []\n",
    "bigcar = []\n",
    "for key, group in car_group :\n",
    "    kind.append(key)\n",
    "    smallcar.append(group['승용차'].sum())\n",
    "    bigcar.append(group['화물차'].sum())\n",
    "df_car = pd.DataFrame({'구분':kind, '승용차':smallcar, '화물차':bigcar})\n",
    "display(df_car)"
   ]
  },
  {
   "cell_type": "markdown",
   "metadata": {},
   "source": [
    "### 3. 시각화"
   ]
  },
  {
   "cell_type": "code",
   "execution_count": 96,
   "metadata": {},
   "outputs": [],
   "source": [
    "from matplotlib import pyplot as plt\n",
    "import pandas as pd\n",
    "from matplotlib import font_manager, rc\n",
    "import seaborn as sns\n",
    "font_path = \"C:/KHR/PYDATAexam/data/malgun.ttf\"   #폰트파일의 위치\n",
    "font_name = font_manager.FontProperties(fname=font_path).get_name()\n",
    "rc('font', family=font_name)"
   ]
  },
  {
   "cell_type": "code",
   "execution_count": 97,
   "metadata": {},
   "outputs": [
    {
     "name": "stdout",
     "output_type": "stream",
     "text": [
      "[256.3124432334242, 568.3060109289618]\n"
     ]
    },
    {
     "data": {
      "image/png": "[encoded data removed]",
      "text/plain": [
       "<Figure size 720x432 with 1 Axes>"
      ]
     },
     "metadata": {},
     "output_type": "display_data"
    }
   ],
   "source": [
    "# 사건 건수 대비 사망자 수\n",
    "ratio = [df_car.iloc[1,2]/df_car.iloc[1,1]*1000, df_car.iloc[2,2]/df_car.iloc[2,1]*1000]\n",
    "print(ratio)\n",
    "# 전체교통사고건수 : 졸음운전사고건수 - 파이 그래프\n",
    "explode = [0.05, 0.05]\n",
    "colors = ['#8fd9b6', '#ff9999']\n",
    "\n",
    "plt.figure(figsize=(10,6))\n",
    "plt.pie(ratio, labels=['승용차 교통사고', '화물차 교통사고'], autopct='%.1f%%',\n",
    "        explode=explode, colors=colors, shadow=True)\n",
    "#plt.savefig(\"사건건수대비사망자수.png\")\n",
    "plt.show()"
   ]
  },
  {
   "cell_type": "code",
   "execution_count": 100,
   "metadata": {},
   "outputs": [
    {
     "data": {
      "text/html": [
       "<div>\n",
       "<style scoped>\n",
       "    .dataframe tbody tr th:only-of-type {\n",
       "        vertical-align: middle;\n",
       "    }\n",
       "\n",
       "    .dataframe tbody tr th {\n",
       "        vertical-align: top;\n",
       "    }\n",
       "\n",
       "    .dataframe thead th {\n",
       "        text-align: right;\n",
       "    }\n",
       "</style>\n",
       "<table border=\"1\" class=\"dataframe\">\n",
       "  <thead>\n",
       "    <tr style=\"text-align: right;\">\n",
       "      <th></th>\n",
       "      <th>비율</th>\n",
       "      <th>차종</th>\n",
       "    </tr>\n",
       "  </thead>\n",
       "  <tbody>\n",
       "    <tr>\n",
       "      <th>0</th>\n",
       "      <td>25.631244</td>\n",
       "      <td>승용차</td>\n",
       "    </tr>\n",
       "    <tr>\n",
       "      <th>1</th>\n",
       "      <td>56.830601</td>\n",
       "      <td>화물차</td>\n",
       "    </tr>\n",
       "  </tbody>\n",
       "</table>\n",
       "</div>"
      ],
      "text/plain": [
       "          비율   차종\n",
       "0  25.631244  승용차\n",
       "1  56.830601  화물차"
      ]
     },
     "metadata": {},
     "output_type": "display_data"
    },
    {
     "data": {
      "text/plain": [
       "Text(0.5, 1.0, '승용차와 화물차 교통사고 건수 대비 사망자 비율')"
      ]
     },
     "execution_count": 100,
     "metadata": {},
     "output_type": "execute_result"
    },
    {
     "data": {
      "image/png": "[encoded data removed]",
      "text/plain": [
       "<Figure size 720x576 with 1 Axes>"
      ]
     },
     "metadata": {
      "needs_background": "light"
     },
     "output_type": "display_data"
    }
   ],
   "source": [
    "# 승용차 교통사고건수대비 사망자 비율, 화물차 교통사고건수대비 사망자 비율\n",
    "df_new = {\n",
    "    '비율': [df_car.iloc[1,2]/df_car.iloc[1,1]*100, df_car.iloc[2,2]/df_car.iloc[2,1]*100],\n",
    "    '차종': ['승용차', '화물차'],\n",
    "}\n",
    "df_final = pd.DataFrame(df_new)\n",
    "display(df_final)\n",
    "mycolors = sns.color_palette('Set2',len(df_final['차종']))\n",
    "\n",
    "\n",
    "plt.figure(figsize=(10,8))\n",
    "df_final['비율'].plot(kind='bar', color=mycolors )\n",
    "plt.xlabel('차종', size=13)\n",
    "plt.ylabel('비율', size=13)\n",
    "plt.title('승용차와 화물차 교통사고 건수 대비 사망자 비율', size=15)\n",
    "\n",
    "#plt.savefig(\"시간대에_따른_고속도로_교통량.png\") "
   ]
  },
  {
   "cell_type": "code",
   "execution_count": null,
   "metadata": {},
   "outputs": [],
   "source": []
  }
 ],
 "metadata": {
  "kernelspec": {
   "display_name": "pydatavenv",
   "language": "python",
   "name": "pydatavenv"
  },
  "language_info": {
   "codemirror_mode": {
    "name": "ipython",
    "version": 3
   },
   "file_extension": ".py",
   "mimetype": "text/x-python",
   "name": "python",
   "nbconvert_exporter": "python",
   "pygments_lexer": "ipython3",
   "version": "3.8.8"
  }
 },
 "nbformat": 4,
 "nbformat_minor": 4
}
